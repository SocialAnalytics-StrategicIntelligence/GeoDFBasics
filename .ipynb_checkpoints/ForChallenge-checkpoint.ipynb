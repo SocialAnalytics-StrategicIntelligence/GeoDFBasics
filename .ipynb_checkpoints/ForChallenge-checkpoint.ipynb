{
 "cells": [
  {
   "cell_type": "markdown",
   "metadata": {
    "id": "Rq_-jS9HtUU-"
   },
   "source": [
    "<img src=\"https://i.imgur.com/6U6q5jQ.png\"/>"
   ]
  },
  {
   "cell_type": "code",
   "execution_count": null,
   "metadata": {},
   "outputs": [],
   "source": [
    "import geopandas as gpd\n",
    "\n",
    "mapGitLink='https://github.com/SocialAnalytics-StrategicIntelligence/GeoDFBasics_py/raw/main/maps/theMapAndData.gpkg'\n",
    "\n",
    "theMapAndData=gpd.read_file(mapGitLink, layer='fragility')"
   ]
  },
  {
   "cell_type": "code",
   "execution_count": null,
   "metadata": {},
   "outputs": [],
   "source": [
    "theMapAndData.columns"
   ]
  },
  {
   "cell_type": "code",
   "execution_count": null,
   "metadata": {},
   "outputs": [],
   "source": [
    "\n",
    "IndexWide=['COUNTRY', 'iso3','geometry', 'Year']\n",
    "VarsToWide=['Total_mnmx', 'Total_ei5']\n",
    "colsForWide=IndexWide+VarsToWide\n",
    "theMapAndData.loc[:,colsForWide].set_index(IndexWide).unstack(level='Year')\n"
   ]
  },
  {
   "cell_type": "code",
   "execution_count": null,
   "metadata": {},
   "outputs": [],
   "source": [
    "theMapAndData_wideYears=theMapAndData.loc[:,colsForWide].set_index(IndexWide).unstack(level='Year').reset_index(drop=False)\n",
    "theMapAndData_wideYears.columns"
   ]
  },
  {
   "cell_type": "code",
   "execution_count": null,
   "metadata": {},
   "outputs": [],
   "source": [
    "theMapAndData_wideYears.columns=['_'.join((a[0],str(a[1]))) if a[1]!='' else a[0] for a in theMapAndData_wideYears.columns]\n",
    "theMapAndData_wideYears"
   ]
  },
  {
   "cell_type": "code",
   "execution_count": null,
   "metadata": {},
   "outputs": [],
   "source": [
    "theMapAndData_wideYears.columns[theMapAndData_wideYears.columns.str.startswith('Total_m')]"
   ]
  },
  {
   "cell_type": "code",
   "execution_count": null,
   "metadata": {},
   "outputs": [],
   "source": [
    "mnmxCols=theMapAndData_wideYears.columns[theMapAndData_wideYears.columns.str.startswith('Total_m')]\n",
    "\n",
    "theMapAndData_wideYears['deteriorating_along10']=theMapAndData_wideYears.loc[:,mnmxCols].apply(lambda row: row.is_monotonic_increasing, axis=1)\n",
    "theMapAndData_wideYears['improving_along10']=theMapAndData_wideYears.loc[:,mnmxCols].apply(lambda row: row.is_monotonic_decreasing, axis=1)\n",
    "theMapAndData_wideYears['equal_along10']=theMapAndData_wideYears.loc[:,mnmxCols].apply(lambda row: row.std()==0, axis=1)"
   ]
  },
  {
   "cell_type": "code",
   "execution_count": null,
   "metadata": {},
   "outputs": [],
   "source": [
    "theMapAndData_wideYears[theMapAndData_wideYears.deteriorating_along10]"
   ]
  },
  {
   "cell_type": "code",
   "execution_count": null,
   "metadata": {},
   "outputs": [],
   "source": [
    "theMapAndData_wideYears[theMapAndData_wideYears.improving_along10]"
   ]
  },
  {
   "cell_type": "code",
   "execution_count": null,
   "metadata": {},
   "outputs": [],
   "source": [
    "theMapAndData_wideYears[theMapAndData_wideYears.equal_along10]"
   ]
  },
  {
   "cell_type": "code",
   "execution_count": null,
   "metadata": {},
   "outputs": [],
   "source": [
    "theMapAndData_wideYears.columns"
   ]
  },
  {
   "cell_type": "code",
   "execution_count": null,
   "metadata": {},
   "outputs": [],
   "source": [
    "theMapAndData_wideYears['better_after10']=theMapAndData_wideYears.Total_ei5_2013>theMapAndData_wideYears.Total_ei5_2023\n",
    "theMapAndData_wideYears['worse_after10']=theMapAndData_wideYears.Total_ei5_2013<theMapAndData_wideYears.Total_ei5_2023\n",
    "theMapAndData_wideYears['same_after10']=theMapAndData_wideYears.Total_ei5_2013==theMapAndData_wideYears.Total_ei5_2023"
   ]
  },
  {
   "cell_type": "code",
   "execution_count": null,
   "metadata": {},
   "outputs": [],
   "source": [
    "SubCols=theMapAndData_wideYears.columns[:2].to_list() + theMapAndData_wideYears.columns[-6::].to_list()\n",
    "theMapAndData_wideYears.loc[:,SubCols]"
   ]
  },
  {
   "cell_type": "code",
   "execution_count": null,
   "metadata": {},
   "outputs": [],
   "source": [
    "theMapAndData_wideYears['along10']=theMapAndData_wideYears.loc[:,['deteriorating_along10','improving_along10','equal_along10']].idxmax(axis=1)\n",
    "theMapAndData_wideYears['after10']=theMapAndData_wideYears.loc[:,['better_after10', 'worse_after10','same_after10']].idxmax(axis=1)"
   ]
  },
  {
   "cell_type": "code",
   "execution_count": null,
   "metadata": {},
   "outputs": [],
   "source": [
    "theMapAndData_wideYears"
   ]
  },
  {
   "cell_type": "code",
   "execution_count": null,
   "metadata": {},
   "outputs": [],
   "source": [
    "theMapAndData_wideYears['along10'].value_counts()"
   ]
  },
  {
   "cell_type": "code",
   "execution_count": null,
   "metadata": {},
   "outputs": [],
   "source": [
    "theMapAndData_wideYears['after10'].value_counts()"
   ]
  },
  {
   "cell_type": "code",
   "execution_count": null,
   "metadata": {},
   "outputs": [],
   "source": [
    "theMapAndData_wideYears.info()"
   ]
  },
  {
   "cell_type": "code",
   "execution_count": null,
   "metadata": {},
   "outputs": [],
   "source": [
    "theMapAndData_wideYears=gpd.GeoDataFrame(theMapAndData_wideYears, geometry=theMapAndData_wideYears.geometry, crs=\"EPSG:4326\")\n",
    "theMapAndData_wideYears.info()"
   ]
  },
  {
   "cell_type": "code",
   "execution_count": null,
   "metadata": {},
   "outputs": [],
   "source": [
    "needed=['COUNTRY','iso3','geometry','after10']\n",
    "theMapAndData_wideYears.loc[:,needed]"
   ]
  },
  {
   "cell_type": "code",
   "execution_count": null,
   "metadata": {},
   "outputs": [],
   "source": [
    "import os\n",
    "\n",
    "theMapAndData_wideYears.loc[:,needed].to_file(os.path.join(\"maps\",\"fragilitymap.gpkg\"),layer='after10', driver=\"GPKG\")"
   ]
  },
  {
   "cell_type": "code",
   "execution_count": null,
   "metadata": {},
   "outputs": [],
   "source": []
  }
 ],
 "metadata": {
  "anaconda-cloud": {
   "attach-environment": true,
   "summary": "test"
  },
  "colab": {
   "provenance": []
  },
  "hide_input": false,
  "kernelspec": {
   "display_name": "Python 3 (ipykernel)",
   "language": "python",
   "name": "python3"
  },
  "language_info": {
   "codemirror_mode": {
    "name": "ipython",
    "version": 3
   },
   "file_extension": ".py",
   "mimetype": "text/x-python",
   "name": "python",
   "nbconvert_exporter": "python",
   "pygments_lexer": "ipython3",
   "version": "3.11.5"
  },
  "toc-autonumbering": false
 },
 "nbformat": 4,
 "nbformat_minor": 4
}
