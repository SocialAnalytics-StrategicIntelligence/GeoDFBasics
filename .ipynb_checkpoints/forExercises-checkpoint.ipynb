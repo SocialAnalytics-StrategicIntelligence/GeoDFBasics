{
 "cells": [
  {
   "cell_type": "markdown",
   "id": "b6df7387-d818-4ef8-b415-e63a723270d5",
   "metadata": {},
   "source": [
    "<img src=\"https://i.imgur.com/6U6q5jQ.png\"/>"
   ]
  },
  {
   "cell_type": "code",
   "execution_count": null,
   "id": "14487b2e-7228-4016-91fe-e098181950aa",
   "metadata": {},
   "outputs": [],
   "source": [
    "import geopandas as gpd\n",
    "\n",
    "linkWorldMap='https://github.com/SocialAnalytics-StrategicIntelligence/GeoDFBasics_py/raw/main/maps/worldMap.gpkg'\n",
    "\n",
    "countries=gpd.read_file(linkWorldMap, layer='countryBorders')\n",
    "rivers=gpd.read_file(linkWorldMap, layer='riverLines')\n",
    "cities=gpd.read_file(linkWorldMap, layer='cityPoints')\n"
   ]
  },
  {
   "cell_type": "code",
   "execution_count": null,
   "id": "49435697-9dc1-46fb-9474-b5c186c570f5",
   "metadata": {},
   "outputs": [],
   "source": [
    "peru=countries[countries.COUNTRY=='Peru']\n",
    "citiesPeru_clipped = gpd.clip(gdf=cities,\n",
    "                          mask=peru)\n",
    "riversPeru_clipped = gpd.clip(gdf=rivers,\n",
    "                               mask=peru)"
   ]
  },
  {
   "cell_type": "code",
   "execution_count": null,
   "id": "89ddd2b2-5504-49a3-a55f-b653264b39a6",
   "metadata": {},
   "outputs": [],
   "source": [
    "base = peru.plot(facecolor=\"greenyellow\", edgecolor='black', linewidth=0.4,figsize=(5,5))\n",
    "citiesPeru_clipped.plot(marker='+', color='red', markersize=15,\n",
    "                    ax=base)\n",
    "riversPeru_clipped.plot(edgecolor='blue', linewidth=0.5,\n",
    "                    ax=base)"
   ]
  },
  {
   "cell_type": "code",
   "execution_count": null,
   "id": "8fa1a310-a1b1-4a13-805e-2b1493e9fc58",
   "metadata": {},
   "outputs": [],
   "source": [
    "import os\n",
    "peru.to_file(os.path.join(\"maps\",\"peruMap.gpkg\"),layer='border', driver=\"GPKG\")\n",
    "riversPeru_clipped.to_file(os.path.join(\"maps\",\"peruMap.gpkg\"),layer='rivers', driver=\"GPKG\")\n",
    "citiesPeru_clipped.to_file(os.path.join(\"maps\",\"peruMap.gpkg\"),layer='cities', driver=\"GPKG\")"
   ]
  },
  {
   "cell_type": "markdown",
   "id": "31fc9ec5-4eb5-4742-bd85-cdd7364bbaa6",
   "metadata": {},
   "source": [
    "# ex3\n"
   ]
  },
  {
   "cell_type": "code",
   "execution_count": null,
   "id": "50e00e5a-7887-4bb3-940b-c7a1afa3ab6f",
   "metadata": {},
   "outputs": [],
   "source": [
    "peru_5389=peru.to_crs(5389)\n",
    "\n",
    "cities_peru_5389=citiesPeru_clipped.to_crs(peru_5389.crs)\n",
    "\n",
    "rivers_peru_5389=riversPeru_clipped.to_crs(peru_5389.crs)"
   ]
  },
  {
   "cell_type": "code",
   "execution_count": null,
   "id": "9c99c944-5a57-46a7-8c2d-550bd68f326c",
   "metadata": {},
   "outputs": [],
   "source": [
    "base = peru_5389.plot(facecolor=\"greenyellow\", edgecolor='black', linewidth=0.4,figsize=(5,5))\n",
    "cities_peru_5389.plot(marker='+', color='red', markersize=15,\n",
    "                    ax=base)\n",
    "rivers_peru_5389.plot(edgecolor='blue', linewidth=0.5,\n",
    "                    ax=base)"
   ]
  },
  {
   "cell_type": "code",
   "execution_count": null,
   "id": "0a1f98e8-743d-454f-ae26-e4106edc6906",
   "metadata": {},
   "outputs": [],
   "source": [
    "peru_5389.crs"
   ]
  },
  {
   "cell_type": "code",
   "execution_count": null,
   "id": "07453a66-c9c7-4f1f-855d-14308659968d",
   "metadata": {},
   "outputs": [],
   "source": [
    "peru_5389.to_file(os.path.join(\"maps\",\"peruMap_5389.gpkg\"),layer='border', driver=\"GPKG\")\n",
    "rivers_peru_5389.to_file(os.path.join(\"maps\",\"peruMap_5389.gpkg\"),layer='rivers', driver=\"GPKG\")\n",
    "cities_peru_5389.to_file(os.path.join(\"maps\",\"peruMap_5389.gpkg\"),layer='cities', driver=\"GPKG\")"
   ]
  },
  {
   "cell_type": "code",
   "execution_count": null,
   "id": "66e9b373-1ad0-41af-ba5d-8afb5b0324d1",
   "metadata": {},
   "outputs": [],
   "source": [
    "import pandas as pd \n",
    "infoairports=pd.read_csv(os.path.join(\"data\",\"ourAirports.csv\"))\n",
    "\n",
    "# some rows\n",
    "\n",
    "infoairports"
   ]
  },
  {
   "cell_type": "code",
   "execution_count": null,
   "id": "3f585574-554e-4d22-8388-a5d4d99ec95e",
   "metadata": {},
   "outputs": [],
   "source": [
    "peruAirports=infoairports[infoairports.iso_country=='PE']\n",
    "peruAirports"
   ]
  },
  {
   "cell_type": "code",
   "execution_count": null,
   "id": "8bb15533-10cf-4b5a-beb4-fd0e22295aee",
   "metadata": {},
   "outputs": [],
   "source": [
    "airportsPeru=gpd.GeoDataFrame(data=peruAirports.copy(),\n",
    "                 geometry=gpd.points_from_xy(peruAirports.longitude_deg,\n",
    "                                             peruAirports.latitude_deg), \n",
    "                 crs=peru.crs.to_epsg())# the coordinates were in degrees - unprojected"
   ]
  },
  {
   "cell_type": "code",
   "execution_count": null,
   "id": "6a362e7d-71ed-4e42-bd32-38ad93e3cf47",
   "metadata": {},
   "outputs": [],
   "source": [
    "airportsPeru_5389=airportsPeru.to_crs(5389)"
   ]
  },
  {
   "cell_type": "code",
   "execution_count": null,
   "id": "775c19c4-8ae8-4266-8704-46d3613a3f97",
   "metadata": {},
   "outputs": [],
   "source": [
    "## then\n",
    "\n",
    "base = peru_5389.plot(color='white', edgecolor='black')\n",
    "airportsPeru_5389.plot(ax=base)"
   ]
  },
  {
   "cell_type": "code",
   "execution_count": null,
   "id": "24f1c998-e4bb-4235-9031-11ee85ac61c5",
   "metadata": {},
   "outputs": [],
   "source": [
    "airportsPeru_5389.to_file(os.path.join(\"maps\",\"peruMap_5389.gpkg\"),layer='airports', driver=\"GPKG\")"
   ]
  },
  {
   "cell_type": "markdown",
   "id": "e8d40ada-ee17-443a-b445-ce82d0b3a3e3",
   "metadata": {},
   "source": [
    "# EX4"
   ]
  },
  {
   "cell_type": "code",
   "execution_count": null,
   "id": "edaae74e-f1bf-4427-95da-9213fedc216c",
   "metadata": {},
   "outputs": [],
   "source": [
    "import pandas as pd\n",
    "continentData=pd.read_csv(os.path.join('data','kagleInfoCountry.csv'))\n",
    "continentData"
   ]
  },
  {
   "cell_type": "code",
   "execution_count": null,
   "id": "be2d2cab-0eca-4c30-837b-9fa7f1cba915",
   "metadata": {},
   "outputs": [],
   "source": [
    "mapGitLink='https://github.com/SocialAnalytics-StrategicIntelligence/GeoDFBasics_py/raw/main/maps/theMapAndData.gpkg'\n",
    "\n",
    "theMapAndData=gpd.read_file(mapGitLink, layer='fragility')\n",
    "\n",
    "theMapAndData"
   ]
  },
  {
   "cell_type": "code",
   "execution_count": null,
   "id": "6af3672b-3ff8-4120-8350-a1a16917e080",
   "metadata": {},
   "outputs": [],
   "source": [
    "pd.unique(theMapAndData.iso3)"
   ]
  },
  {
   "cell_type": "code",
   "execution_count": null,
   "id": "940774ea-e110-4be3-a3be-8e0880b6a790",
   "metadata": {},
   "outputs": [],
   "source": [
    "set(pd.unique(theMapAndData.iso3))-set(continentData['alpha-3'])"
   ]
  },
  {
   "cell_type": "code",
   "execution_count": null,
   "id": "e207e4d8-88b4-4621-96f5-934af49367a1",
   "metadata": {},
   "outputs": [],
   "source": [
    "theMapAndData=theMapAndData.merge(continentData.loc[:,['region','sub-region','alpha-3']],left_on='iso3', right_on='alpha-3')"
   ]
  },
  {
   "cell_type": "code",
   "execution_count": null,
   "id": "888de804-b342-4b46-8b29-d13e3e03600e",
   "metadata": {},
   "outputs": [],
   "source": [
    "colsNeeded=['COUNTRY','iso3','Total_ei5','Total_ei5_cat','geometry']\n",
    "America_2023=theMapAndData[(theMapAndData.Year==2020) & (theMapAndData.region=='Americas')].loc[:, colsNeeded]\n",
    "America_2023.info()"
   ]
  },
  {
   "cell_type": "code",
   "execution_count": null,
   "id": "d518ba05-e069-46de-b3eb-30ebf4424c16",
   "metadata": {},
   "outputs": [],
   "source": [
    "America_2023_prjed=America_2023.to_crs(8858)\n",
    "America_2023_prjed"
   ]
  },
  {
   "cell_type": "code",
   "execution_count": null,
   "id": "dbb9a6a6-b516-4ffb-89c9-3e18744569f4",
   "metadata": {},
   "outputs": [],
   "source": [
    "America_2023_prjed['centroids']=America_2023_prjed.centroid\n",
    "America_2023_prjed"
   ]
  },
  {
   "cell_type": "code",
   "execution_count": null,
   "id": "28fea52d-ba5c-4ac0-9562-d4083cef7ce9",
   "metadata": {},
   "outputs": [],
   "source": [
    "# just the plot\n",
    "base=America_2023_prjed.plot(facecolor='white',\n",
    "                     edgecolor='lightgrey',\n",
    "                     linewidth=0.3,\n",
    "                     figsize=(8,8))\n",
    "\n",
    "# another column, with the size of the POINTS (based on \"Total_ei5\")\n",
    "America_2023_prjed[\"sizeOfMarker_ei5\"]=[3**(Val+1) for Val in America_2023_prjed[\"Total_ei5\"]]\n",
    "\n",
    "# now, plotting the centroids (declared as the geometry)!!!\n",
    "America_2023_prjed.set_geometry(\"centroids\").plot(column=\"Total_ei5_cat\",\n",
    "                                         categorical=True,\n",
    "                                         markersize=America_2023_prjed[\"sizeOfMarker_ei5\"],\n",
    "                                         cmap='Paired_r',\n",
    "                                         legend=True,ax=base)"
   ]
  },
  {
   "cell_type": "code",
   "execution_count": null,
   "id": "a8bcd791-613a-4195-9bc0-65c86dc111fc",
   "metadata": {},
   "outputs": [],
   "source": [
    "colsNeeded=['COUNTRY','iso3','Total_ei5','Total_ei5_cat','geometry']\n",
    "America_2023_prjed_polygons=America_2023_prjed.loc[:,colsNeeded]\n",
    "\n",
    "colsNeeded=['COUNTRY','iso3','Total_ei5','Total_ei5_cat','centroids']\n",
    "America_2023_prjed_centers=America_2023_prjed.loc[:,colsNeeded]\n",
    "America_2023_prjed_centers.rename(columns={'centroids':'geometry'},inplace=True)\n",
    "America_2023_prjed_centers=America_2023_prjed_centers.set_geometry('geometry')"
   ]
  },
  {
   "cell_type": "code",
   "execution_count": null,
   "id": "83e04073-f1f9-469f-8e05-abea3fe055a3",
   "metadata": {},
   "outputs": [],
   "source": [
    "America_2023_prjed_centers.info()"
   ]
  },
  {
   "cell_type": "code",
   "execution_count": null,
   "id": "144f8b33-3378-4dbe-8a1e-1f3a2c662bec",
   "metadata": {},
   "outputs": [],
   "source": [
    "America_2023_prjed_polygons.to_file(os.path.join(\"maps\",\"America_2023_prjed.gpkg\"),layer='countries', driver=\"GPKG\")\n",
    "America_2023_prjed_centers.to_file(os.path.join(\"maps\",\"America_2023_prjed.gpkg\"),layer='centroids', driver=\"GPKG\")"
   ]
  },
  {
   "cell_type": "code",
   "execution_count": null,
   "id": "39a932ea-4b2e-4577-8025-2b6b881d97f0",
   "metadata": {},
   "outputs": [],
   "source": []
  }
 ],
 "metadata": {
  "kernelspec": {
   "display_name": "Python 3 (ipykernel)",
   "language": "python",
   "name": "python3"
  },
  "language_info": {
   "codemirror_mode": {
    "name": "ipython",
    "version": 3
   },
   "file_extension": ".py",
   "mimetype": "text/x-python",
   "name": "python",
   "nbconvert_exporter": "python",
   "pygments_lexer": "ipython3",
   "version": "3.11.5"
  }
 },
 "nbformat": 4,
 "nbformat_minor": 5
}
